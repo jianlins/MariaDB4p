{
 "cells": [
  {
   "cell_type": "code",
   "execution_count": 1,
   "metadata": {},
   "outputs": [
    {
     "name": "stdout",
     "output_type": "stream",
     "text": [
      "/workspaces/MariaDB4p\n"
     ]
    }
   ],
   "source": [
    "%cd .."
   ]
  },
  {
   "cell_type": "markdown",
   "metadata": {},
   "source": [
    "## Initiate and start mariadb server"
   ]
  },
  {
   "cell_type": "code",
   "execution_count": 2,
   "metadata": {},
   "outputs": [],
   "source": [
    "from MariaDB4p.mariadb_wrapper import MariaDBWrapper"
   ]
  },
  {
   "cell_type": "code",
   "execution_count": 9,
   "metadata": {},
   "outputs": [
    {
     "name": "stderr",
     "output_type": "stream",
     "text": [
      "\u001b[32m2024-10-28 05:33:29.503\u001b[0m | \u001b[34m\u001b[1mDEBUG   \u001b[0m | \u001b[36mMariaDB4p.check_jdk\u001b[0m:\u001b[36mis_jdk_installed\u001b[0m:\u001b[36m12\u001b[0m - \u001b[34m\u001b[1mcurrent_dir:/workspaces/MariaDB4p/MariaDB4p\u001b[0m\n",
      "\u001b[32m2024-10-28 05:33:29.513\u001b[0m | \u001b[1mINFO    \u001b[0m | \u001b[36mMariaDB4p.check_jdk\u001b[0m:\u001b[36mis_jdk_inpath\u001b[0m:\u001b[36m39\u001b[0m - \u001b[1mJDK has not been found in system path.\u001b[0m\n",
      "\u001b[32m2024-10-28 05:33:29.513\u001b[0m | \u001b[1mINFO    \u001b[0m | \u001b[36mMariaDB4p.check_jdk\u001b[0m:\u001b[36mis_jdk_installed\u001b[0m:\u001b[36m16\u001b[0m - \u001b[1mjdk has been installed to:/home/vscode/.jdks/jdk-17.0.13+11\u001b[0m\n",
      "\u001b[32m2024-10-28 05:33:29.514\u001b[0m | \u001b[1mINFO    \u001b[0m | \u001b[36mMariaDB4p.check_jdk\u001b[0m:\u001b[36minstall_jdk_if_missing\u001b[0m:\u001b[36m61\u001b[0m - \u001b[1mSkipping JDK installation.\u001b[0m\n",
      "\u001b[32m2024-10-28 05:33:29.515\u001b[0m | \u001b[1mINFO    \u001b[0m | \u001b[36mMariaDB4p.download_jars\u001b[0m:\u001b[36mdownload_maria4j_jars\u001b[0m:\u001b[36m257\u001b[0m - \u001b[1mDependencies already downloaded. Skipping download.\u001b[0m\n",
      "\u001b[32m2024-10-28 05:33:29.513\u001b[0m | \u001b[1mINFO    \u001b[0m | \u001b[36mMariaDB4p.check_jdk\u001b[0m:\u001b[36mis_jdk_inpath\u001b[0m:\u001b[36m39\u001b[0m - \u001b[1mJDK has not been found in system path.\u001b[0m\n",
      "\u001b[32m2024-10-28 05:33:29.513\u001b[0m | \u001b[1mINFO    \u001b[0m | \u001b[36mMariaDB4p.check_jdk\u001b[0m:\u001b[36mis_jdk_installed\u001b[0m:\u001b[36m16\u001b[0m - \u001b[1mjdk has been installed to:/home/vscode/.jdks/jdk-17.0.13+11\u001b[0m\n",
      "\u001b[32m2024-10-28 05:33:29.514\u001b[0m | \u001b[1mINFO    \u001b[0m | \u001b[36mMariaDB4p.check_jdk\u001b[0m:\u001b[36minstall_jdk_if_missing\u001b[0m:\u001b[36m61\u001b[0m - \u001b[1mSkipping JDK installation.\u001b[0m\n",
      "\u001b[32m2024-10-28 05:33:29.515\u001b[0m | \u001b[1mINFO    \u001b[0m | \u001b[36mMariaDB4p.download_jars\u001b[0m:\u001b[36mdownload_maria4j_jars\u001b[0m:\u001b[36m257\u001b[0m - \u001b[1mDependencies already downloaded. Skipping download.\u001b[0m\n"
     ]
    }
   ],
   "source": [
    "wrapper = MariaDBWrapper(port=3307)"
   ]
  },
  {
   "cell_type": "code",
   "execution_count": 10,
   "metadata": {},
   "outputs": [
    {
     "name": "stderr",
     "output_type": "stream",
     "text": [
      "\u001b[32m2024-10-28 05:33:33.919\u001b[0m | \u001b[1mINFO    \u001b[0m | \u001b[36mMariaDB4p.mariadb_wrapper\u001b[0m:\u001b[36mstart_server\u001b[0m:\u001b[36m80\u001b[0m - \u001b[1mMariaDB server started on port 3307.\u001b[0m\n"
     ]
    }
   ],
   "source": [
    "wrapper.start_server()"
   ]
  },
  {
   "cell_type": "markdown",
   "metadata": {},
   "source": [
    "### Make a test database \"db\""
   ]
  },
  {
   "cell_type": "code",
   "execution_count": 11,
   "metadata": {},
   "outputs": [],
   "source": [
    "wrapper.db.createDB('db')"
   ]
  },
  {
   "cell_type": "markdown",
   "metadata": {},
   "source": [
    "### Use pymysql to run some queries"
   ]
  },
  {
   "cell_type": "code",
   "execution_count": 12,
   "metadata": {},
   "outputs": [],
   "source": [
    "import pymysql.cursors\n",
    "\n",
    "# Connect to the database\n",
    "connection = pymysql.connect(host='localhost',\n",
    "                             user='root',\n",
    "                             password='',\n",
    "                             database='db',\n",
    "                             port=3307\n",
    "                             )"
   ]
  },
  {
   "cell_type": "code",
   "execution_count": 13,
   "metadata": {},
   "outputs": [],
   "source": [
    "create_sql='''CREATE TABLE `users` (\n",
    "    `id` int(11) NOT NULL AUTO_INCREMENT,\n",
    "    `email` varchar(255) COLLATE utf8_bin NOT NULL,\n",
    "    `password` varchar(255) COLLATE utf8_bin NOT NULL,\n",
    "    PRIMARY KEY (`id`)\n",
    ") ENGINE=InnoDB DEFAULT CHARSET=utf8mb4 COLLATE=utf8mb4_bin\n",
    "AUTO_INCREMENT=1 ;'''"
   ]
  },
  {
   "cell_type": "code",
   "execution_count": 14,
   "metadata": {},
   "outputs": [],
   "source": [
    "with connection.cursor() as cursor:\n",
    "    cursor.execute(create_sql)\n",
    "    connection.commit()\n"
   ]
  },
  {
   "cell_type": "code",
   "execution_count": 15,
   "metadata": {},
   "outputs": [
    {
     "name": "stdout",
     "output_type": "stream",
     "text": [
      "(1, 'very-secret')\n"
     ]
    }
   ],
   "source": [
    "with connection.cursor() as cursor:\n",
    "    # Create a new record\n",
    "    sql = \"INSERT INTO `users` (`email`, `password`) VALUES (%s, %s)\"\n",
    "    cursor.execute(sql, ('webmaster@python.org', 'very-secret'))\n",
    "\n",
    "# connection is not autocommit by default. So you must commit to save\n",
    "# your changes.\n",
    "connection.commit()\n",
    "\n",
    "with connection.cursor() as cursor:\n",
    "    # Read a single record\n",
    "    sql = \"SELECT `id`, `password` FROM `users` WHERE `email`=%s\"\n",
    "    cursor.execute(sql, ('webmaster@python.org',))\n",
    "    result = cursor.fetchone()\n",
    "    print(result)"
   ]
  },
  {
   "cell_type": "markdown",
   "metadata": {},
   "source": [
    "### Shutdown server"
   ]
  },
  {
   "cell_type": "code",
   "execution_count": 16,
   "metadata": {},
   "outputs": [
    {
     "name": "stderr",
     "output_type": "stream",
     "text": [
      "\u001b[32m2024-10-28 05:33:54.270\u001b[0m | \u001b[1mINFO    \u001b[0m | \u001b[36mMariaDB4p.mariadb_wrapper\u001b[0m:\u001b[36mstop_server\u001b[0m:\u001b[36m92\u001b[0m - \u001b[1mMariaDB server stopped.\u001b[0m\n"
     ]
    }
   ],
   "source": [
    "wrapper.stop_server()"
   ]
  },
  {
   "cell_type": "markdown",
   "metadata": {},
   "source": [
    "### Clean up test database files"
   ]
  },
  {
   "cell_type": "code",
   "execution_count": 17,
   "metadata": {},
   "outputs": [],
   "source": [
    "import shutil\n",
    "shutil.rmtree(wrapper.base_dir)"
   ]
  },
  {
   "cell_type": "code",
   "execution_count": null,
   "metadata": {},
   "outputs": [],
   "source": []
  }
 ],
 "metadata": {
  "kernelspec": {
   "display_name": "base",
   "language": "python",
   "name": "python3"
  },
  "language_info": {
   "codemirror_mode": {
    "name": "ipython",
    "version": 3
   },
   "file_extension": ".py",
   "mimetype": "text/x-python",
   "name": "python",
   "nbconvert_exporter": "python",
   "pygments_lexer": "ipython3",
   "version": "3.12.2"
  }
 },
 "nbformat": 4,
 "nbformat_minor": 2
}
