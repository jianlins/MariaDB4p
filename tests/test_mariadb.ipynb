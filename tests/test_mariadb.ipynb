{
 "cells": [
  {
   "cell_type": "code",
   "execution_count": 3,
   "metadata": {},
   "outputs": [
    {
     "data": {
      "text/plain": [
       "'/workspaces/MariaDB4p'"
      ]
     },
     "execution_count": 3,
     "metadata": {},
     "output_type": "execute_result"
    }
   ],
   "source": [
    "pwd"
   ]
  },
  {
   "cell_type": "code",
   "execution_count": 1,
   "metadata": {},
   "outputs": [
    {
     "name": "stdout",
     "output_type": "stream",
     "text": [
      "/workspaces/MariaDB4p\n"
     ]
    }
   ],
   "source": [
    "%cd .."
   ]
  },
  {
   "cell_type": "code",
   "execution_count": 2,
   "metadata": {},
   "outputs": [],
   "source": [
    "from MariaDB4p.mariadb_wrapper import MariaDBWrapper\n",
    "from MariaDB4p.check_jdk import is_jdk_installed"
   ]
  },
  {
   "cell_type": "code",
   "execution_count": 3,
   "metadata": {},
   "outputs": [
    {
     "name": "stderr",
     "output_type": "stream",
     "text": [
      "\u001b[32m2024-10-28 05:03:53.337\u001b[0m | \u001b[34m\u001b[1mDEBUG   \u001b[0m | \u001b[36mMariaDB4p.check_jdk\u001b[0m:\u001b[36mis_jdk_installed\u001b[0m:\u001b[36m12\u001b[0m - \u001b[34m\u001b[1mcurrent_dir:/workspaces/MariaDB4p/MariaDB4p\u001b[0m\n",
      "\u001b[32m2024-10-28 05:03:53.344\u001b[0m | \u001b[1mINFO    \u001b[0m | \u001b[36mMariaDB4p.check_jdk\u001b[0m:\u001b[36mis_jdk_inpath\u001b[0m:\u001b[36m39\u001b[0m - \u001b[1mJDK has not been found in system path.\u001b[0m\n",
      "\u001b[32m2024-10-28 05:03:53.345\u001b[0m | \u001b[1mINFO    \u001b[0m | \u001b[36mMariaDB4p.check_jdk\u001b[0m:\u001b[36mis_jdk_installed\u001b[0m:\u001b[36m25\u001b[0m - \u001b[1mjdk has been installed to: /home/vscode/.jdks/jdk-17.0.13+11\u001b[0m\n"
     ]
    },
    {
     "data": {
      "text/plain": [
       "PosixPath('/home/vscode/.jdks/jdk-17.0.13+11/bin/java')"
      ]
     },
     "execution_count": 3,
     "metadata": {},
     "output_type": "execute_result"
    }
   ],
   "source": [
    "is_jdk_installed()"
   ]
  },
  {
   "cell_type": "code",
   "execution_count": 4,
   "metadata": {},
   "outputs": [
    {
     "name": "stderr",
     "output_type": "stream",
     "text": [
      "\u001b[32m2024-10-28 05:03:53.946\u001b[0m | \u001b[34m\u001b[1mDEBUG   \u001b[0m | \u001b[36mMariaDB4p.check_jdk\u001b[0m:\u001b[36mis_jdk_installed\u001b[0m:\u001b[36m12\u001b[0m - \u001b[34m\u001b[1mcurrent_dir:/workspaces/MariaDB4p/MariaDB4p\u001b[0m\n",
      "\u001b[32m2024-10-28 05:03:53.948\u001b[0m | \u001b[1mINFO    \u001b[0m | \u001b[36mMariaDB4p.check_jdk\u001b[0m:\u001b[36mis_jdk_inpath\u001b[0m:\u001b[36m39\u001b[0m - \u001b[1mJDK has not been found in system path.\u001b[0m\n",
      "\u001b[32m2024-10-28 05:03:53.949\u001b[0m | \u001b[1mINFO    \u001b[0m | \u001b[36mMariaDB4p.check_jdk\u001b[0m:\u001b[36mis_jdk_installed\u001b[0m:\u001b[36m16\u001b[0m - \u001b[1mjdk has been installed to:/home/vscode/.jdks/jdk-17.0.13+11\u001b[0m\n",
      "\u001b[32m2024-10-28 05:03:53.949\u001b[0m | \u001b[1mINFO    \u001b[0m | \u001b[36mMariaDB4p.mariadb_wrapper\u001b[0m:\u001b[36mstart_jvm\u001b[0m:\u001b[36m45\u001b[0m - \u001b[1mStarting JVM with classpath: /workspaces/MariaDB4p/mariadb4j_jars/*\u001b[0m\n",
      "\u001b[32m2024-10-28 05:03:53.948\u001b[0m | \u001b[1mINFO    \u001b[0m | \u001b[36mMariaDB4p.check_jdk\u001b[0m:\u001b[36mis_jdk_inpath\u001b[0m:\u001b[36m39\u001b[0m - \u001b[1mJDK has not been found in system path.\u001b[0m\n",
      "\u001b[32m2024-10-28 05:03:53.949\u001b[0m | \u001b[1mINFO    \u001b[0m | \u001b[36mMariaDB4p.check_jdk\u001b[0m:\u001b[36mis_jdk_installed\u001b[0m:\u001b[36m16\u001b[0m - \u001b[1mjdk has been installed to:/home/vscode/.jdks/jdk-17.0.13+11\u001b[0m\n",
      "\u001b[32m2024-10-28 05:03:53.949\u001b[0m | \u001b[1mINFO    \u001b[0m | \u001b[36mMariaDB4p.mariadb_wrapper\u001b[0m:\u001b[36mstart_jvm\u001b[0m:\u001b[36m45\u001b[0m - \u001b[1mStarting JVM with classpath: /workspaces/MariaDB4p/mariadb4j_jars/*\u001b[0m\n",
      "\u001b[32m2024-10-28 05:03:54.489\u001b[0m | \u001b[1mINFO    \u001b[0m | \u001b[36mMariaDB4p.mariadb_wrapper\u001b[0m:\u001b[36mstart_jvm\u001b[0m:\u001b[36m48\u001b[0m - \u001b[1mJVM started successfully.\u001b[0m\n"
     ]
    }
   ],
   "source": [
    "wrapper = MariaDBWrapper(port=3307)"
   ]
  },
  {
   "cell_type": "code",
   "execution_count": 5,
   "metadata": {},
   "outputs": [
    {
     "name": "stderr",
     "output_type": "stream",
     "text": [
      "SLF4J: Failed to load class \"org.slf4j.impl.StaticLoggerBinder\".\n",
      "SLF4J: Defaulting to no-operation (NOP) logger implementation\n",
      "SLF4J: See http://www.slf4j.org/codes.html#StaticLoggerBinder for further details.\n"
     ]
    },
    {
     "name": "stdout",
     "output_type": "stream",
     "text": [
      "Standard Commons Logging discovery in action with spring-jcl: please remove commons-logging.jar from classpath in order to avoid potential conflicts\n"
     ]
    },
    {
     "name": "stderr",
     "output_type": "stream",
     "text": [
      "\u001b[32m2024-10-28 05:03:57.895\u001b[0m | \u001b[1mINFO    \u001b[0m | \u001b[36mMariaDB4p.mariadb_wrapper\u001b[0m:\u001b[36mstart_server\u001b[0m:\u001b[36m73\u001b[0m - \u001b[1mMariaDB server started on port 3307.\u001b[0m\n"
     ]
    }
   ],
   "source": [
    "wrapper.start_server()"
   ]
  },
  {
   "cell_type": "code",
   "execution_count": 7,
   "metadata": {},
   "outputs": [],
   "source": [
    "wrapper.db.createDB('db')"
   ]
  },
  {
   "cell_type": "code",
   "execution_count": 20,
   "metadata": {},
   "outputs": [],
   "source": [
    "import pymysql.cursors\n",
    "\n",
    "# Connect to the database\n",
    "connection = pymysql.connect(host='localhost',\n",
    "                             user='root',\n",
    "                             password='',\n",
    "                             database='db',\n",
    "                             port=3307\n",
    "                             )"
   ]
  },
  {
   "cell_type": "code",
   "execution_count": 21,
   "metadata": {},
   "outputs": [],
   "source": [
    "create_sql='''CREATE TABLE `users` (\n",
    "    `id` int(11) NOT NULL AUTO_INCREMENT,\n",
    "    `email` varchar(255) COLLATE utf8_bin NOT NULL,\n",
    "    `password` varchar(255) COLLATE utf8_bin NOT NULL,\n",
    "    PRIMARY KEY (`id`)\n",
    ") ENGINE=InnoDB DEFAULT CHARSET=utf8mb4 COLLATE=utf8mb4_bin\n",
    "AUTO_INCREMENT=1 ;'''"
   ]
  },
  {
   "cell_type": "code",
   "execution_count": 22,
   "metadata": {},
   "outputs": [],
   "source": [
    "with connection.cursor() as cursor:\n",
    "    cursor.execute(create_sql)\n",
    "    connection.commit()\n"
   ]
  },
  {
   "cell_type": "code",
   "execution_count": 23,
   "metadata": {},
   "outputs": [
    {
     "name": "stdout",
     "output_type": "stream",
     "text": [
      "(1, 'very-secret')\n"
     ]
    }
   ],
   "source": [
    "with connection.cursor() as cursor:\n",
    "    # Create a new record\n",
    "    sql = \"INSERT INTO `users` (`email`, `password`) VALUES (%s, %s)\"\n",
    "    cursor.execute(sql, ('webmaster@python.org', 'very-secret'))\n",
    "\n",
    "# connection is not autocommit by default. So you must commit to save\n",
    "# your changes.\n",
    "connection.commit()\n",
    "\n",
    "with connection.cursor() as cursor:\n",
    "    # Read a single record\n",
    "    sql = \"SELECT `id`, `password` FROM `users` WHERE `email`=%s\"\n",
    "    cursor.execute(sql, ('webmaster@python.org',))\n",
    "    result = cursor.fetchone()\n",
    "    print(result)"
   ]
  },
  {
   "cell_type": "code",
   "execution_count": 27,
   "metadata": {},
   "outputs": [],
   "source": [
    "wrapper.db.stop()"
   ]
  },
  {
   "cell_type": "code",
   "execution_count": null,
   "metadata": {},
   "outputs": [],
   "source": []
  }
 ],
 "metadata": {
  "kernelspec": {
   "display_name": "base",
   "language": "python",
   "name": "python3"
  },
  "language_info": {
   "codemirror_mode": {
    "name": "ipython",
    "version": 3
   },
   "file_extension": ".py",
   "mimetype": "text/x-python",
   "name": "python",
   "nbconvert_exporter": "python",
   "pygments_lexer": "ipython3",
   "version": "3.12.2"
  }
 },
 "nbformat": 4,
 "nbformat_minor": 2
}
